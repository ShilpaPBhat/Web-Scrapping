{
 "cells": [
  {
   "cell_type": "code",
   "execution_count": 1,
   "metadata": {},
   "outputs": [],
   "source": [
    "import numpy as np\n",
    "import pandas as pd\n",
    "import re\n",
    "from requests import get\n",
    "from bs4 import BeautifulSoup\n",
    "import os\n",
    "import inquirer"
   ]
  },
  {
   "cell_type": "code",
   "execution_count": 2,
   "metadata": {},
   "outputs": [],
   "source": [
    "def user_input():\n",
    "    url = 'https://www.iplt20.com/stats/2019'\n",
    "    response = get(url)\n",
    "    html_soup = BeautifulSoup(response.content, 'html.parser')\n",
    "    \n",
    "    years = [year.get_text() for year in html_soup.find_all('a', class_=re.compile(r'sub-menu*'))]\n",
    "    if years[-1] == 'All Time Records':\n",
    "        years[-1] = 'all-time'\n",
    "\n",
    "    stats_1 = html_soup.find_all('a', class_=re.compile(r'side*'))\n",
    "    stats = [re.search(r'\\d/(.*)', stat['href']).group(1) for stat in stats_1]\n",
    "    \n",
    "    print('Pick a value for year from the following. If you want entire data then type all-time')\n",
    "    for elem in years:\n",
    "        print(elem)\n",
    "\n",
    "    year_selected = None\n",
    "    while year_selected not in years:\n",
    "        year_selected = input(\"Please enter right input: \")\n",
    "        \n",
    "    print('\\n')\n",
    "        \n",
    "    print(\"Enter a stats for which you want the data, one from the following\")\n",
    "    for elem in stats:\n",
    "            print(elem)\n",
    "\n",
    "    stat_selected = None\n",
    "    while stat_selected not in stats:\n",
    "        stat_selected = input(\"Please enter right input: \")\n",
    "        \n",
    "    return year_selected, stat_selected\n"
   ]
  },
  {
   "cell_type": "code",
   "execution_count": 3,
   "metadata": {},
   "outputs": [],
   "source": [
    "def main_data_extraction():\n",
    "    year_selected, stat_selected = user_input()\n",
    "    url = 'https://www.iplt20.com/stats/'\n",
    "    url_complete = url + year_selected + '/' + stat_selected\n",
    "    url_complete\n",
    "    response = get(url_complete)\n",
    "    html_soup = BeautifulSoup(response.content, 'html.parser')\n",
    "    \n",
    "    column_names = re.sub(r'\\n[\\s]*', '\\n', \n",
    "                html_soup.find('tr', class_=re.compile(r'top-players__header*')).get_text()).strip().split('\\n')\n",
    "    \n",
    "    data_placeholder = []\n",
    "    for i in html_soup.find_all('td', class_=re.compile(r'top-players*')):\n",
    "            data_placeholder.append(re.sub(r'\\n[\\s]*', \" \", i.get_text().strip()))\n",
    "            \n",
    "    data = np.asarray(data_placeholder).reshape(len(data_placeholder) // len(column_names), len(column_names))\n",
    "    final_data = pd.DataFrame(data, columns = column_names)\n",
    "    file_path = %pwd\n",
    "    file_name = file_path + '/' + stat_selected  + '_' +  str(year_selected) + '.csv'\n",
    "    final_data.to_csv(file_name, index=False)\n",
    "    \n",
    "    return print('Your file download is complete')"
   ]
  },
  {
   "cell_type": "code",
   "execution_count": 4,
   "metadata": {},
   "outputs": [
    {
     "name": "stdout",
     "output_type": "stream",
     "text": [
      "Pick a value for year from the following. If you want entire data then type all-time\n",
      "2019\n",
      "2018\n",
      "2017\n",
      "2016\n",
      "2015\n",
      "2014\n",
      "2013\n",
      "2012\n",
      "2011\n",
      "2010\n",
      "2009\n",
      "2008\n",
      "all-time\n",
      "Please enter right input: 2019\n",
      "\n",
      "\n",
      "Enter a stats for which you want the data, one from the following\n",
      "most-runs\n",
      "most-runs-over\n",
      "most-fours\n",
      "most-fours-innings\n",
      "most-sixes\n",
      "most-sixes-innings\n",
      "most-fifties\n",
      "most-centuries\n",
      "fastest-fifties\n",
      "fastest-centuries\n",
      "highest-scores\n",
      "highest-scores-innings\n",
      "best-batting-strike-rate\n",
      "best-batting-average\n",
      "biggest-sixes\n",
      "most-wickets\n",
      "most-maidens\n",
      "most-dot-balls\n",
      "most-dot-balls-innings\n",
      "best-bowling-average\n",
      "best-bowling-economy\n",
      "best-bowling-economy-innings\n",
      "best-bowling-strike-rate\n",
      "best-bowling-strike-rate-innings\n",
      "best-bowling-innings\n",
      "most-runs-conceded-innings\n",
      "fastest-balls\n",
      "most-hat-tricks\n",
      "most-four-wickets\n",
      "player-points\n",
      "Please enter right input: most-runs\n",
      "Your file download is complete\n"
     ]
    }
   ],
   "source": [
    "main_data_extraction()"
   ]
  }
 ],
 "metadata": {
  "kernelspec": {
   "display_name": "Python 3",
   "language": "python",
   "name": "python3"
  },
  "language_info": {
   "codemirror_mode": {
    "name": "ipython",
    "version": 3
   },
   "file_extension": ".py",
   "mimetype": "text/x-python",
   "name": "python",
   "nbconvert_exporter": "python",
   "pygments_lexer": "ipython3",
   "version": "3.7.4"
  }
 },
 "nbformat": 4,
 "nbformat_minor": 2
}
